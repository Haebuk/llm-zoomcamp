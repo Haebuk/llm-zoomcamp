{
 "cells": [
  {
   "cell_type": "code",
   "execution_count": 1,
   "id": "90180b7d-fa12-4a1c-a43a-79738cf4b577",
   "metadata": {},
   "outputs": [],
   "source": [
    "import openai"
   ]
  },
  {
   "cell_type": "code",
   "execution_count": 2,
   "id": "a4725925-b45c-48b0-aeaa-ca5db48fd217",
   "metadata": {},
   "outputs": [],
   "source": [
    "from openai import OpenAI"
   ]
  },
  {
   "cell_type": "code",
   "execution_count": 7,
   "id": "a965f821-cd9d-4870-a445-bc573602e890",
   "metadata": {},
   "outputs": [],
   "source": [
    "client = OpenAI()"
   ]
  },
  {
   "cell_type": "code",
   "execution_count": 8,
   "id": "d5ee6f5d-2bde-4d91-b55c-5fbd739e9643",
   "metadata": {},
   "outputs": [],
   "source": [
    "response = client.chat.completions.create(\n",
    "    model='gpt-4o',\n",
    "    messages=[{\"role\": \"user\", \"content\": \"is it too late to join the course?\"}]\n",
    ")"
   ]
  },
  {
   "cell_type": "code",
   "execution_count": 11,
   "id": "729044b1-9cd8-4107-9d57-11d290ad69a6",
   "metadata": {},
   "outputs": [
    {
     "data": {
      "text/plain": [
       "\"The answer to whether it’s too late to join a course depends on several factors such as the specific course you are interested in, the institution offering it, and the current point in the course schedule. Here are a few steps you can take:\\n\\n1. **Check the Enrollment Period**: Look at the course details or contact the institution to find out the enrollment deadlines.\\n\\n2. **Contact the Instructor or Administration**: Sometimes, even if official enrollment deadlines have passed, instructors or administrative staff may allow late enrollment for various reasons.\\n\\n3. **Look for Prerecorded or Self-Paced Options**: Some courses might offer prerecorded lectures or self-paced options that allow you to catch up on your own time.\\n\\n4. **Consider Upcoming Sessions**: If you can't join this session, ask about future sessions or similar courses.\\n\\n5. **Assess the Impact**: If you are able to join late, consider how much material you have missed and if it’s feasible for you to catch up effectively.\\n\\nReach out directly to the course provider to get accurate and specific guidance based on their policies and the course's structure!\""
      ]
     },
     "execution_count": 11,
     "metadata": {},
     "output_type": "execute_result"
    }
   ],
   "source": [
    "response.choices[0].message.content"
   ]
  },
  {
   "cell_type": "code",
   "execution_count": null,
   "id": "f98bb5ea-93fb-4c18-b0e6-aa37610785a7",
   "metadata": {},
   "outputs": [],
   "source": []
  }
 ],
 "metadata": {
  "kernelspec": {
   "display_name": "Python 3 (ipykernel)",
   "language": "python",
   "name": "python3"
  },
  "language_info": {
   "codemirror_mode": {
    "name": "ipython",
    "version": 3
   },
   "file_extension": ".py",
   "mimetype": "text/x-python",
   "name": "python",
   "nbconvert_exporter": "python",
   "pygments_lexer": "ipython3",
   "version": "3.10.13"
  }
 },
 "nbformat": 4,
 "nbformat_minor": 5
}
